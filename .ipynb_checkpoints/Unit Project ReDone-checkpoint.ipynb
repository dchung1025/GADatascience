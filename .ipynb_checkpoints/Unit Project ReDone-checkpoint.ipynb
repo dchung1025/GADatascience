{
 "cells": [
  {
   "cell_type": "markdown",
   "metadata": {},
   "source": [
    "# SF-DAT-21 | Unit Projects\n"
   ]
  },
  {
   "cell_type": "code",
   "execution_count": 128,
   "metadata": {
    "collapsed": false
   },
   "outputs": [],
   "source": [
    "import pandas as pd\n",
    "import numpy as np\n",
    "import matplotlib.pyplot as plt\n",
    "import pylab as pl\n",
    "import statsmodels.api as sm\n",
    "from sklearn import linear_model, metrics\n",
    "%matplotlib inline"
   ]
  },
  {
   "cell_type": "code",
   "execution_count": 2,
   "metadata": {
    "collapsed": false
   },
   "outputs": [
    {
     "name": "stdout",
     "output_type": "stream",
     "text": [
      "   admit  gre   gpa  prestige\n",
      "0      0  380  3.61         3\n",
      "1      1  660  3.67         3\n",
      "2      1  800  4.00         1\n",
      "3      1  640  3.19         4\n",
      "4      0  520  2.93         4\n"
     ]
    }
   ],
   "source": [
    "df_raw = pd.read_csv(\"dataset/admissions.csv\")\n",
    "df = df_raw.dropna()\n",
    "print df.head()"
   ]
  },
  {
   "cell_type": "code",
   "execution_count": 3,
   "metadata": {
    "collapsed": false
   },
   "outputs": [
    {
     "data": {
      "text/plain": [
       "397"
      ]
     },
     "execution_count": 3,
     "metadata": {},
     "output_type": "execute_result"
    }
   ],
   "source": [
    "len(df)"
   ]
  },
  {
   "cell_type": "code",
   "execution_count": 46,
   "metadata": {
    "collapsed": false
   },
   "outputs": [
    {
     "data": {
      "text/html": [
       "<div>\n",
       "<table border=\"1\" class=\"dataframe\">\n",
       "  <thead>\n",
       "    <tr style=\"text-align: right;\">\n",
       "      <th></th>\n",
       "      <th>admit</th>\n",
       "      <th>gre</th>\n",
       "      <th>gpa</th>\n",
       "      <th>prestige</th>\n",
       "    </tr>\n",
       "  </thead>\n",
       "  <tbody>\n",
       "    <tr>\n",
       "      <th>count</th>\n",
       "      <td>397.000000</td>\n",
       "      <td>397.000000</td>\n",
       "      <td>397.000000</td>\n",
       "      <td>397.000000</td>\n",
       "    </tr>\n",
       "    <tr>\n",
       "      <th>mean</th>\n",
       "      <td>0.317380</td>\n",
       "      <td>587.858942</td>\n",
       "      <td>3.392242</td>\n",
       "      <td>2.488665</td>\n",
       "    </tr>\n",
       "    <tr>\n",
       "      <th>std</th>\n",
       "      <td>0.466044</td>\n",
       "      <td>115.717787</td>\n",
       "      <td>0.380208</td>\n",
       "      <td>0.947083</td>\n",
       "    </tr>\n",
       "    <tr>\n",
       "      <th>min</th>\n",
       "      <td>0.000000</td>\n",
       "      <td>220.000000</td>\n",
       "      <td>2.260000</td>\n",
       "      <td>1.000000</td>\n",
       "    </tr>\n",
       "    <tr>\n",
       "      <th>25%</th>\n",
       "      <td>0.000000</td>\n",
       "      <td>520.000000</td>\n",
       "      <td>3.130000</td>\n",
       "      <td>2.000000</td>\n",
       "    </tr>\n",
       "    <tr>\n",
       "      <th>50%</th>\n",
       "      <td>0.000000</td>\n",
       "      <td>580.000000</td>\n",
       "      <td>3.400000</td>\n",
       "      <td>2.000000</td>\n",
       "    </tr>\n",
       "    <tr>\n",
       "      <th>75%</th>\n",
       "      <td>1.000000</td>\n",
       "      <td>660.000000</td>\n",
       "      <td>3.670000</td>\n",
       "      <td>3.000000</td>\n",
       "    </tr>\n",
       "    <tr>\n",
       "      <th>max</th>\n",
       "      <td>1.000000</td>\n",
       "      <td>800.000000</td>\n",
       "      <td>4.000000</td>\n",
       "      <td>4.000000</td>\n",
       "    </tr>\n",
       "  </tbody>\n",
       "</table>\n",
       "</div>"
      ],
      "text/plain": [
       "            admit         gre         gpa    prestige\n",
       "count  397.000000  397.000000  397.000000  397.000000\n",
       "mean     0.317380  587.858942    3.392242    2.488665\n",
       "std      0.466044  115.717787    0.380208    0.947083\n",
       "min      0.000000  220.000000    2.260000    1.000000\n",
       "25%      0.000000  520.000000    3.130000    2.000000\n",
       "50%      0.000000  580.000000    3.400000    2.000000\n",
       "75%      1.000000  660.000000    3.670000    3.000000\n",
       "max      1.000000  800.000000    4.000000    4.000000"
      ]
     },
     "execution_count": 46,
     "metadata": {},
     "output_type": "execute_result"
    }
   ],
   "source": [
    "df.describe()"
   ]
  },
  {
   "cell_type": "code",
   "execution_count": 44,
   "metadata": {
    "collapsed": false
   },
   "outputs": [
    {
     "data": {
      "text/plain": [
       "<matplotlib.axes._subplots.AxesSubplot at 0x11c755690>"
      ]
     },
     "execution_count": 44,
     "metadata": {},
     "output_type": "execute_result"
    },
    {
     "data": {
      "image/png": "[encoded data removed]",
      "text/plain": [
       "<matplotlib.figure.Figure at 0x11c748a50>"
      ]
     },
     "metadata": {},
     "output_type": "display_data"
    }
   ],
   "source": [
    "df['gre'].plot(kind='box', figsize = (8,8))"
   ]
  },
  {
   "cell_type": "code",
   "execution_count": 6,
   "metadata": {
    "collapsed": false
   },
   "outputs": [],
   "source": [
    "prestige_dummies = pd.get_dummies(df.prestige, prefix = 'prestige')"
   ]
  },
  {
   "cell_type": "code",
   "execution_count": 7,
   "metadata": {
    "collapsed": false
   },
   "outputs": [
    {
     "data": {
      "text/html": [
       "<div>\n",
       "<table border=\"1\" class=\"dataframe\">\n",
       "  <thead>\n",
       "    <tr style=\"text-align: right;\">\n",
       "      <th></th>\n",
       "      <th>prestige_1.0</th>\n",
       "      <th>prestige_2.0</th>\n",
       "      <th>prestige_3.0</th>\n",
       "      <th>prestige_4.0</th>\n",
       "    </tr>\n",
       "  </thead>\n",
       "  <tbody>\n",
       "    <tr>\n",
       "      <th>0</th>\n",
       "      <td>0</td>\n",
       "      <td>0</td>\n",
       "      <td>1</td>\n",
       "      <td>0</td>\n",
       "    </tr>\n",
       "    <tr>\n",
       "      <th>1</th>\n",
       "      <td>0</td>\n",
       "      <td>0</td>\n",
       "      <td>1</td>\n",
       "      <td>0</td>\n",
       "    </tr>\n",
       "    <tr>\n",
       "      <th>2</th>\n",
       "      <td>1</td>\n",
       "      <td>0</td>\n",
       "      <td>0</td>\n",
       "      <td>0</td>\n",
       "    </tr>\n",
       "    <tr>\n",
       "      <th>3</th>\n",
       "      <td>0</td>\n",
       "      <td>0</td>\n",
       "      <td>0</td>\n",
       "      <td>1</td>\n",
       "    </tr>\n",
       "    <tr>\n",
       "      <th>4</th>\n",
       "      <td>0</td>\n",
       "      <td>0</td>\n",
       "      <td>0</td>\n",
       "      <td>1</td>\n",
       "    </tr>\n",
       "  </tbody>\n",
       "</table>\n",
       "</div>"
      ],
      "text/plain": [
       "   prestige_1.0  prestige_2.0  prestige_3.0  prestige_4.0\n",
       "0             0             0             1             0\n",
       "1             0             0             1             0\n",
       "2             1             0             0             0\n",
       "3             0             0             0             1\n",
       "4             0             0             0             1"
      ]
     },
     "execution_count": 7,
     "metadata": {},
     "output_type": "execute_result"
    }
   ],
   "source": [
    "prestige_dummies.head()"
   ]
  },
  {
   "cell_type": "code",
   "execution_count": 34,
   "metadata": {
    "collapsed": false
   },
   "outputs": [
    {
     "data": {
      "text/html": [
       "<div>\n",
       "<table border=\"1\" class=\"dataframe\">\n",
       "  <thead>\n",
       "    <tr style=\"text-align: right;\">\n",
       "      <th></th>\n",
       "      <th>admit</th>\n",
       "      <th>gre</th>\n",
       "      <th>gpa</th>\n",
       "      <th>prestige_2.0</th>\n",
       "      <th>prestige_3.0</th>\n",
       "      <th>prestige_4.0</th>\n",
       "    </tr>\n",
       "  </thead>\n",
       "  <tbody>\n",
       "    <tr>\n",
       "      <th>0</th>\n",
       "      <td>0</td>\n",
       "      <td>380</td>\n",
       "      <td>3.61</td>\n",
       "      <td>0</td>\n",
       "      <td>1</td>\n",
       "      <td>0</td>\n",
       "    </tr>\n",
       "    <tr>\n",
       "      <th>1</th>\n",
       "      <td>1</td>\n",
       "      <td>660</td>\n",
       "      <td>3.67</td>\n",
       "      <td>0</td>\n",
       "      <td>1</td>\n",
       "      <td>0</td>\n",
       "    </tr>\n",
       "    <tr>\n",
       "      <th>2</th>\n",
       "      <td>1</td>\n",
       "      <td>800</td>\n",
       "      <td>4.00</td>\n",
       "      <td>0</td>\n",
       "      <td>0</td>\n",
       "      <td>0</td>\n",
       "    </tr>\n",
       "    <tr>\n",
       "      <th>3</th>\n",
       "      <td>1</td>\n",
       "      <td>640</td>\n",
       "      <td>3.19</td>\n",
       "      <td>0</td>\n",
       "      <td>0</td>\n",
       "      <td>1</td>\n",
       "    </tr>\n",
       "    <tr>\n",
       "      <th>4</th>\n",
       "      <td>0</td>\n",
       "      <td>520</td>\n",
       "      <td>2.93</td>\n",
       "      <td>0</td>\n",
       "      <td>0</td>\n",
       "      <td>1</td>\n",
       "    </tr>\n",
       "  </tbody>\n",
       "</table>\n",
       "</div>"
      ],
      "text/plain": [
       "   admit  gre   gpa  prestige_2.0  prestige_3.0  prestige_4.0\n",
       "0      0  380  3.61             0             1             0\n",
       "1      1  660  3.67             0             1             0\n",
       "2      1  800  4.00             0             0             0\n",
       "3      1  640  3.19             0             0             1\n",
       "4      0  520  2.93             0             0             1"
      ]
     },
     "execution_count": 34,
     "metadata": {},
     "output_type": "execute_result"
    }
   ],
   "source": [
    "df_keep = ['admit','gre','gpa']\n",
    "\n",
    "df_join = df[df_keep].join(prestige_dummies.ix[:,'prestige_2.0':])\n",
    "\n",
    "df_join.head()"
   ]
  },
  {
   "cell_type": "code",
   "execution_count": 35,
   "metadata": {
    "collapsed": false
   },
   "outputs": [
    {
     "data": {
      "text/html": [
       "<div>\n",
       "<table border=\"1\" class=\"dataframe\">\n",
       "  <thead>\n",
       "    <tr style=\"text-align: right;\">\n",
       "      <th></th>\n",
       "      <th>admit</th>\n",
       "      <th>gre</th>\n",
       "      <th>gpa</th>\n",
       "      <th>prestige_2.0</th>\n",
       "      <th>prestige_3.0</th>\n",
       "      <th>prestige_4.0</th>\n",
       "      <th>gre * gpa</th>\n",
       "    </tr>\n",
       "  </thead>\n",
       "  <tbody>\n",
       "    <tr>\n",
       "      <th>admit</th>\n",
       "      <td>1.000000</td>\n",
       "      <td>0.181202</td>\n",
       "      <td>0.174116</td>\n",
       "      <td>0.067459</td>\n",
       "      <td>-0.122302</td>\n",
       "      <td>-0.133859</td>\n",
       "      <td>0.206521</td>\n",
       "    </tr>\n",
       "    <tr>\n",
       "      <th>gre</th>\n",
       "      <td>0.181202</td>\n",
       "      <td>1.000000</td>\n",
       "      <td>0.382408</td>\n",
       "      <td>0.058454</td>\n",
       "      <td>-0.074380</td>\n",
       "      <td>-0.069046</td>\n",
       "      <td>0.913591</td>\n",
       "    </tr>\n",
       "    <tr>\n",
       "      <th>gpa</th>\n",
       "      <td>0.174116</td>\n",
       "      <td>0.382408</td>\n",
       "      <td>1.000000</td>\n",
       "      <td>-0.050507</td>\n",
       "      <td>0.070881</td>\n",
       "      <td>-0.087671</td>\n",
       "      <td>0.716845</td>\n",
       "    </tr>\n",
       "    <tr>\n",
       "      <th>prestige_2.0</th>\n",
       "      <td>0.067459</td>\n",
       "      <td>0.058454</td>\n",
       "      <td>-0.050507</td>\n",
       "      <td>1.000000</td>\n",
       "      <td>-0.510469</td>\n",
       "      <td>-0.347385</td>\n",
       "      <td>0.014026</td>\n",
       "    </tr>\n",
       "    <tr>\n",
       "      <th>prestige_3.0</th>\n",
       "      <td>-0.122302</td>\n",
       "      <td>-0.074380</td>\n",
       "      <td>0.070881</td>\n",
       "      <td>-0.510469</td>\n",
       "      <td>1.000000</td>\n",
       "      <td>-0.298345</td>\n",
       "      <td>-0.017060</td>\n",
       "    </tr>\n",
       "    <tr>\n",
       "      <th>prestige_4.0</th>\n",
       "      <td>-0.133859</td>\n",
       "      <td>-0.069046</td>\n",
       "      <td>-0.087671</td>\n",
       "      <td>-0.347385</td>\n",
       "      <td>-0.298345</td>\n",
       "      <td>1.000000</td>\n",
       "      <td>-0.093617</td>\n",
       "    </tr>\n",
       "    <tr>\n",
       "      <th>gre * gpa</th>\n",
       "      <td>0.206521</td>\n",
       "      <td>0.913591</td>\n",
       "      <td>0.716845</td>\n",
       "      <td>0.014026</td>\n",
       "      <td>-0.017060</td>\n",
       "      <td>-0.093617</td>\n",
       "      <td>1.000000</td>\n",
       "    </tr>\n",
       "  </tbody>\n",
       "</table>\n",
       "</div>"
      ],
      "text/plain": [
       "                 admit       gre       gpa  prestige_2.0  prestige_3.0  \\\n",
       "admit         1.000000  0.181202  0.174116      0.067459     -0.122302   \n",
       "gre           0.181202  1.000000  0.382408      0.058454     -0.074380   \n",
       "gpa           0.174116  0.382408  1.000000     -0.050507      0.070881   \n",
       "prestige_2.0  0.067459  0.058454 -0.050507      1.000000     -0.510469   \n",
       "prestige_3.0 -0.122302 -0.074380  0.070881     -0.510469      1.000000   \n",
       "prestige_4.0 -0.133859 -0.069046 -0.087671     -0.347385     -0.298345   \n",
       "gre * gpa     0.206521  0.913591  0.716845      0.014026     -0.017060   \n",
       "\n",
       "              prestige_4.0  gre * gpa  \n",
       "admit            -0.133859   0.206521  \n",
       "gre              -0.069046   0.913591  \n",
       "gpa              -0.087671   0.716845  \n",
       "prestige_2.0     -0.347385   0.014026  \n",
       "prestige_3.0     -0.298345  -0.017060  \n",
       "prestige_4.0      1.000000  -0.093617  \n",
       "gre * gpa        -0.093617   1.000000  "
      ]
     },
     "execution_count": 35,
     "metadata": {},
     "output_type": "execute_result"
    }
   ],
   "source": [
    "df_join['gre * gpa'] = df_join.gre * df_join.gpa\n",
    "df_join.corr()"
   ]
  },
  {
   "cell_type": "code",
   "execution_count": 36,
   "metadata": {
    "collapsed": true
   },
   "outputs": [],
   "source": [
    "df_join['intercept'] = 1.0"
   ]
  },
  {
   "cell_type": "code",
   "execution_count": 47,
   "metadata": {
    "collapsed": false
   },
   "outputs": [
    {
     "data": {
      "text/html": [
       "<div>\n",
       "<table border=\"1\" class=\"dataframe\">\n",
       "  <thead>\n",
       "    <tr style=\"text-align: right;\">\n",
       "      <th></th>\n",
       "      <th>admit</th>\n",
       "      <th>gre</th>\n",
       "      <th>gpa</th>\n",
       "      <th>prestige_2.0</th>\n",
       "      <th>prestige_3.0</th>\n",
       "      <th>prestige_4.0</th>\n",
       "      <th>gre * gpa</th>\n",
       "      <th>intercept</th>\n",
       "    </tr>\n",
       "  </thead>\n",
       "  <tbody>\n",
       "    <tr>\n",
       "      <th>0</th>\n",
       "      <td>0</td>\n",
       "      <td>380</td>\n",
       "      <td>3.61</td>\n",
       "      <td>0</td>\n",
       "      <td>1</td>\n",
       "      <td>0</td>\n",
       "      <td>1371.8</td>\n",
       "      <td>1</td>\n",
       "    </tr>\n",
       "    <tr>\n",
       "      <th>1</th>\n",
       "      <td>1</td>\n",
       "      <td>660</td>\n",
       "      <td>3.67</td>\n",
       "      <td>0</td>\n",
       "      <td>1</td>\n",
       "      <td>0</td>\n",
       "      <td>2422.2</td>\n",
       "      <td>1</td>\n",
       "    </tr>\n",
       "    <tr>\n",
       "      <th>2</th>\n",
       "      <td>1</td>\n",
       "      <td>800</td>\n",
       "      <td>4.00</td>\n",
       "      <td>0</td>\n",
       "      <td>0</td>\n",
       "      <td>0</td>\n",
       "      <td>3200.0</td>\n",
       "      <td>1</td>\n",
       "    </tr>\n",
       "    <tr>\n",
       "      <th>3</th>\n",
       "      <td>1</td>\n",
       "      <td>640</td>\n",
       "      <td>3.19</td>\n",
       "      <td>0</td>\n",
       "      <td>0</td>\n",
       "      <td>1</td>\n",
       "      <td>2041.6</td>\n",
       "      <td>1</td>\n",
       "    </tr>\n",
       "    <tr>\n",
       "      <th>4</th>\n",
       "      <td>0</td>\n",
       "      <td>520</td>\n",
       "      <td>2.93</td>\n",
       "      <td>0</td>\n",
       "      <td>0</td>\n",
       "      <td>1</td>\n",
       "      <td>1523.6</td>\n",
       "      <td>1</td>\n",
       "    </tr>\n",
       "  </tbody>\n",
       "</table>\n",
       "</div>"
      ],
      "text/plain": [
       "   admit  gre   gpa  prestige_2.0  prestige_3.0  prestige_4.0  gre * gpa  \\\n",
       "0      0  380  3.61             0             1             0     1371.8   \n",
       "1      1  660  3.67             0             1             0     2422.2   \n",
       "2      1  800  4.00             0             0             0     3200.0   \n",
       "3      1  640  3.19             0             0             1     2041.6   \n",
       "4      0  520  2.93             0             0             1     1523.6   \n",
       "\n",
       "   intercept  \n",
       "0          1  \n",
       "1          1  \n",
       "2          1  \n",
       "3          1  \n",
       "4          1  "
      ]
     },
     "execution_count": 47,
     "metadata": {},
     "output_type": "execute_result"
    }
   ],
   "source": [
    "df_join.head()"
   ]
  },
  {
   "cell_type": "code",
   "execution_count": 37,
   "metadata": {
    "collapsed": false
   },
   "outputs": [
    {
     "data": {
      "text/plain": [
       "0    1371.8\n",
       "1    2422.2\n",
       "2    3200.0\n",
       "3    2041.6\n",
       "4    1523.6\n",
       "Name: gre * gpa, dtype: float64"
      ]
     },
     "execution_count": 37,
     "metadata": {},
     "output_type": "execute_result"
    }
   ],
   "source": [
    "df_join['gre * gpa'].head()"
   ]
  },
  {
   "cell_type": "code",
   "execution_count": 50,
   "metadata": {
    "collapsed": false
   },
   "outputs": [],
   "source": [
    "train_df = df_join.sample(frac = .6, random_state = 0)\n",
    "test_df = df_join.drop(train_df.index)"
   ]
  },
  {
   "cell_type": "code",
   "execution_count": 51,
   "metadata": {
    "collapsed": false
   },
   "outputs": [
    {
     "data": {
      "text/plain": [
       "397"
      ]
     },
     "execution_count": 51,
     "metadata": {},
     "output_type": "execute_result"
    }
   ],
   "source": [
    "len(train_df) + len(test_df)"
   ]
  },
  {
   "cell_type": "code",
   "execution_count": 52,
   "metadata": {
    "collapsed": false
   },
   "outputs": [
    {
     "data": {
      "text/html": [
       "<div>\n",
       "<table border=\"1\" class=\"dataframe\">\n",
       "  <thead>\n",
       "    <tr style=\"text-align: right;\">\n",
       "      <th></th>\n",
       "      <th>admit</th>\n",
       "      <th>gre</th>\n",
       "      <th>gpa</th>\n",
       "      <th>prestige_2.0</th>\n",
       "      <th>prestige_3.0</th>\n",
       "      <th>prestige_4.0</th>\n",
       "      <th>gre * gpa</th>\n",
       "      <th>intercept</th>\n",
       "    </tr>\n",
       "  </thead>\n",
       "  <tbody>\n",
       "    <tr>\n",
       "      <th>0</th>\n",
       "      <td>0</td>\n",
       "      <td>380</td>\n",
       "      <td>3.61</td>\n",
       "      <td>0</td>\n",
       "      <td>1</td>\n",
       "      <td>0</td>\n",
       "      <td>1371.8</td>\n",
       "      <td>1</td>\n",
       "    </tr>\n",
       "    <tr>\n",
       "      <th>3</th>\n",
       "      <td>1</td>\n",
       "      <td>640</td>\n",
       "      <td>3.19</td>\n",
       "      <td>0</td>\n",
       "      <td>0</td>\n",
       "      <td>1</td>\n",
       "      <td>2041.6</td>\n",
       "      <td>1</td>\n",
       "    </tr>\n",
       "    <tr>\n",
       "      <th>9</th>\n",
       "      <td>0</td>\n",
       "      <td>700</td>\n",
       "      <td>3.92</td>\n",
       "      <td>1</td>\n",
       "      <td>0</td>\n",
       "      <td>0</td>\n",
       "      <td>2744.0</td>\n",
       "      <td>1</td>\n",
       "    </tr>\n",
       "    <tr>\n",
       "      <th>11</th>\n",
       "      <td>0</td>\n",
       "      <td>440</td>\n",
       "      <td>3.22</td>\n",
       "      <td>0</td>\n",
       "      <td>0</td>\n",
       "      <td>0</td>\n",
       "      <td>1416.8</td>\n",
       "      <td>1</td>\n",
       "    </tr>\n",
       "    <tr>\n",
       "      <th>16</th>\n",
       "      <td>0</td>\n",
       "      <td>780</td>\n",
       "      <td>3.87</td>\n",
       "      <td>0</td>\n",
       "      <td>0</td>\n",
       "      <td>1</td>\n",
       "      <td>3018.6</td>\n",
       "      <td>1</td>\n",
       "    </tr>\n",
       "  </tbody>\n",
       "</table>\n",
       "</div>"
      ],
      "text/plain": [
       "    admit  gre   gpa  prestige_2.0  prestige_3.0  prestige_4.0  gre * gpa  \\\n",
       "0       0  380  3.61             0             1             0     1371.8   \n",
       "3       1  640  3.19             0             0             1     2041.6   \n",
       "9       0  700  3.92             1             0             0     2744.0   \n",
       "11      0  440  3.22             0             0             0     1416.8   \n",
       "16      0  780  3.87             0             0             1     3018.6   \n",
       "\n",
       "    intercept  \n",
       "0           1  \n",
       "3           1  \n",
       "9           1  \n",
       "11          1  \n",
       "16          1  "
      ]
     },
     "execution_count": 52,
     "metadata": {},
     "output_type": "execute_result"
    }
   ],
   "source": [
    "test_df.head()"
   ]
  },
  {
   "cell_type": "code",
   "execution_count": 119,
   "metadata": {
    "collapsed": false
   },
   "outputs": [
    {
     "data": {
      "text/plain": [
       "['gre', 'gpa', 'prestige_2.0', 'prestige_3.0', 'prestige_4.0', 'intercept']"
      ]
     },
     "execution_count": 119,
     "metadata": {},
     "output_type": "execute_result"
    }
   ],
   "source": [
    "train_cols = ['gre','gpa','prestige_2.0','prestige_3.0','prestige_4.0' ,'intercept']\n",
    "train_cols"
   ]
  },
  {
   "cell_type": "code",
   "execution_count": 120,
   "metadata": {
    "collapsed": false
   },
   "outputs": [
    {
     "name": "stdout",
     "output_type": "stream",
     "text": [
      "0.72268907563\n"
     ]
    }
   ],
   "source": [
    "train_x = train_df[train_cols]\n",
    "train_y = train_df['admit']\n",
    "\n",
    "model = linear_model.LogisticRegression()\n",
    "model.fit(train_x, train_y)\n",
    "print model.score(train_x, train_y)"
   ]
  },
  {
   "cell_type": "code",
   "execution_count": 121,
   "metadata": {
    "collapsed": false
   },
   "outputs": [
    {
     "data": {
      "text/plain": [
       "0.3403361344537815"
      ]
     },
     "execution_count": 121,
     "metadata": {},
     "output_type": "execute_result"
    }
   ],
   "source": [
    "train_y.mean()"
   ]
  },
  {
   "cell_type": "code",
   "execution_count": 122,
   "metadata": {
    "collapsed": false,
    "scrolled": true
   },
   "outputs": [
    {
     "data": {
      "text/html": [
       "<div>\n",
       "<table border=\"1\" class=\"dataframe\">\n",
       "  <thead>\n",
       "    <tr style=\"text-align: right;\">\n",
       "      <th></th>\n",
       "      <th>0</th>\n",
       "      <th>1</th>\n",
       "    </tr>\n",
       "  </thead>\n",
       "  <tbody>\n",
       "    <tr>\n",
       "      <th>0</th>\n",
       "      <td>gre</td>\n",
       "      <td>[0.00281699626675]</td>\n",
       "    </tr>\n",
       "    <tr>\n",
       "      <th>1</th>\n",
       "      <td>gpa</td>\n",
       "      <td>[0.309419783325]</td>\n",
       "    </tr>\n",
       "    <tr>\n",
       "      <th>2</th>\n",
       "      <td>prestige_2.0</td>\n",
       "      <td>[-0.699094495747]</td>\n",
       "    </tr>\n",
       "    <tr>\n",
       "      <th>3</th>\n",
       "      <td>prestige_3.0</td>\n",
       "      <td>[-1.19294199602]</td>\n",
       "    </tr>\n",
       "    <tr>\n",
       "      <th>4</th>\n",
       "      <td>prestige_4.0</td>\n",
       "      <td>[-1.4082003506]</td>\n",
       "    </tr>\n",
       "    <tr>\n",
       "      <th>5</th>\n",
       "      <td>intercept</td>\n",
       "      <td>[-1.24395846086]</td>\n",
       "    </tr>\n",
       "  </tbody>\n",
       "</table>\n",
       "</div>"
      ],
      "text/plain": [
       "              0                   1\n",
       "0           gre  [0.00281699626675]\n",
       "1           gpa    [0.309419783325]\n",
       "2  prestige_2.0   [-0.699094495747]\n",
       "3  prestige_3.0    [-1.19294199602]\n",
       "4  prestige_4.0     [-1.4082003506]\n",
       "5     intercept    [-1.24395846086]"
      ]
     },
     "execution_count": 122,
     "metadata": {},
     "output_type": "execute_result"
    }
   ],
   "source": [
    "pd.DataFrame(zip(train_x.columns, np.transpose(model.coef_)))"
   ]
  },
  {
   "cell_type": "code",
   "execution_count": 134,
   "metadata": {
    "collapsed": false
   },
   "outputs": [
    {
     "name": "stdout",
     "output_type": "stream",
     "text": [
      "[0 0 0 0 0 1 0 1 1 0 0 1 0 0 0 0 0 0 0 0 0 0 0 0 1 0 0 0 0 0 0 0 0 0 1 1 0\n",
      " 0 0 0 0 0 0 0 0 1 0 0 0 0 0 0 0 0 1 0 0 0 1 0 0 0 0 1 0 0 0 0 0 0 1 0 0 1\n",
      " 0 0 0 0 0 0 1 0 1 1 0 0 0 0 0 0 0 0 0 0 0 0 0 0 0 0 0 0 0 0 0 1 0 1 0 0 0\n",
      " 0 1 0 0 0 0 0 0 0 0 0 0 0 0 0 0 0 0 0 1 0 0 0 0 0 0 0 0 1 0 1 0 0 1 1 0 1\n",
      " 0 0 0 1 0 1 0 0 0 0 0]\n"
     ]
    }
   ],
   "source": [
    "test_x = test_df[train_cols]\n",
    "test_y = test_df['admit']\n",
    "\n",
    "predicted = model.predict(test_x)\n",
    "print predicted"
   ]
  },
  {
   "cell_type": "code",
   "execution_count": 124,
   "metadata": {
    "collapsed": false
   },
   "outputs": [
    {
     "name": "stdout",
     "output_type": "stream",
     "text": [
      "[[ 0.81658728  0.18341272]\n",
      " [ 0.75141823  0.24858177]\n",
      " [ 0.50054712  0.49945288]\n",
      " [ 0.562695    0.437305  ]\n",
      " [ 0.6227896   0.3772104 ]\n",
      " [ 0.44716043  0.55283957]\n",
      " [ 0.72978079  0.27021921]\n",
      " [ 0.28942948  0.71057052]\n",
      " [ 0.49835566  0.50164434]\n",
      " [ 0.6232546   0.3767454 ]\n",
      " [ 0.71882363  0.28117637]\n",
      " [ 0.46218355  0.53781645]\n",
      " [ 0.69211576  0.30788424]\n",
      " [ 0.80007703  0.19992297]\n",
      " [ 0.62852165  0.37147835]\n",
      " [ 0.62764835  0.37235165]\n",
      " [ 0.77698488  0.22301512]\n",
      " [ 0.82758998  0.17241002]\n",
      " [ 0.86867317  0.13132683]\n",
      " [ 0.66454637  0.33545363]\n",
      " [ 0.56455056  0.43544944]\n",
      " [ 0.84562694  0.15437306]\n",
      " [ 0.71724379  0.28275621]\n",
      " [ 0.67752279  0.32247721]\n",
      " [ 0.28499541  0.71500459]\n",
      " [ 0.65482176  0.34517824]\n",
      " [ 0.81683145  0.18316855]\n",
      " [ 0.6022724   0.3977276 ]\n",
      " [ 0.54725424  0.45274576]\n",
      " [ 0.73631494  0.26368506]\n",
      " [ 0.71909676  0.28090324]\n",
      " [ 0.76105088  0.23894912]\n",
      " [ 0.61527487  0.38472513]\n",
      " [ 0.6034911   0.3965089 ]\n",
      " [ 0.37780453  0.62219547]\n",
      " [ 0.33925669  0.66074331]\n",
      " [ 0.5654694   0.4345306 ]\n",
      " [ 0.57381316  0.42618684]\n",
      " [ 0.58029513  0.41970487]\n",
      " [ 0.82198889  0.17801111]\n",
      " [ 0.54573615  0.45426385]\n",
      " [ 0.68294844  0.31705156]\n",
      " [ 0.73644003  0.26355997]\n",
      " [ 0.6681293   0.3318707 ]\n",
      " [ 0.51601263  0.48398737]\n",
      " [ 0.28689072  0.71310928]\n",
      " [ 0.86051505  0.13948495]\n",
      " [ 0.73276613  0.26723387]\n",
      " [ 0.79417701  0.20582299]\n",
      " [ 0.79069179  0.20930821]\n",
      " [ 0.65798106  0.34201894]\n",
      " [ 0.66346732  0.33653268]\n",
      " [ 0.61292237  0.38707763]\n",
      " [ 0.62734711  0.37265289]\n",
      " [ 0.42311384  0.57688616]\n",
      " [ 0.73006922  0.26993078]\n",
      " [ 0.77985359  0.22014641]\n",
      " [ 0.55856671  0.44143329]\n",
      " [ 0.34959048  0.65040952]\n",
      " [ 0.73387528  0.26612472]\n",
      " [ 0.5411616   0.4588384 ]\n",
      " [ 0.50700851  0.49299149]\n",
      " [ 0.70629504  0.29370496]\n",
      " [ 0.32702763  0.67297237]\n",
      " [ 0.70486253  0.29513747]\n",
      " [ 0.66563775  0.33436225]\n",
      " [ 0.80144772  0.19855228]\n",
      " [ 0.71806739  0.28193261]\n",
      " [ 0.71176124  0.28823876]\n",
      " [ 0.68237642  0.31762358]\n",
      " [ 0.49435896  0.50564104]\n",
      " [ 0.61719551  0.38280449]\n",
      " [ 0.83539252  0.16460748]\n",
      " [ 0.45499791  0.54500209]\n",
      " [ 0.65916486  0.34083514]\n",
      " [ 0.67742365  0.32257635]\n",
      " [ 0.84746322  0.15253678]\n",
      " [ 0.60423127  0.39576873]\n",
      " [ 0.70510402  0.29489598]\n",
      " [ 0.70421843  0.29578157]\n",
      " [ 0.32702763  0.67297237]\n",
      " [ 0.81758242  0.18241758]\n",
      " [ 0.39988992  0.60011008]\n",
      " [ 0.3335869   0.6664131 ]\n",
      " [ 0.76529185  0.23470815]\n",
      " [ 0.61542739  0.38457261]\n",
      " [ 0.68526572  0.31473428]\n",
      " [ 0.69680775  0.30319225]\n",
      " [ 0.50902328  0.49097672]\n",
      " [ 0.68428689  0.31571311]\n",
      " [ 0.52511845  0.47488155]\n",
      " [ 0.7490467   0.2509533 ]\n",
      " [ 0.55414449  0.44585551]\n",
      " [ 0.55921872  0.44078128]\n",
      " [ 0.72445573  0.27554427]\n",
      " [ 0.76066742  0.23933258]\n",
      " [ 0.67313142  0.32686858]\n",
      " [ 0.69876526  0.30123474]\n",
      " [ 0.55113174  0.44886826]\n",
      " [ 0.57667983  0.42332017]\n",
      " [ 0.72568934  0.27431066]\n",
      " [ 0.82877046  0.17122954]\n",
      " [ 0.55004723  0.44995277]\n",
      " [ 0.80264228  0.19735772]\n",
      " [ 0.5403932   0.4596068 ]\n",
      " [ 0.40165493  0.59834507]\n",
      " [ 0.77180441  0.22819559]\n",
      " [ 0.43692193  0.56307807]\n",
      " [ 0.52714327  0.47285673]\n",
      " [ 0.72500018  0.27499982]\n",
      " [ 0.66102111  0.33897889]\n",
      " [ 0.51829868  0.48170132]\n",
      " [ 0.27010762  0.72989238]\n",
      " [ 0.58582639  0.41417361]\n",
      " [ 0.77037088  0.22962912]\n",
      " [ 0.64579227  0.35420773]\n",
      " [ 0.74754106  0.25245894]\n",
      " [ 0.50998948  0.49001052]\n",
      " [ 0.6146948   0.3853052 ]\n",
      " [ 0.66759986  0.33240014]\n",
      " [ 0.82043679  0.17956321]\n",
      " [ 0.64006963  0.35993037]\n",
      " [ 0.80155024  0.19844976]\n",
      " [ 0.8043115   0.1956885 ]\n",
      " [ 0.79908533  0.20091467]\n",
      " [ 0.56150554  0.43849446]\n",
      " [ 0.63011557  0.36988443]\n",
      " [ 0.67058329  0.32941671]\n",
      " [ 0.59601689  0.40398311]\n",
      " [ 0.77579866  0.22420134]\n",
      " [ 0.49414917  0.50585083]\n",
      " [ 0.67873288  0.32126712]\n",
      " [ 0.81580693  0.18419307]\n",
      " [ 0.78302434  0.21697566]\n",
      " [ 0.79163661  0.20836339]\n",
      " [ 0.61307523  0.38692477]\n",
      " [ 0.59323582  0.40676418]\n",
      " [ 0.70537192  0.29462808]\n",
      " [ 0.53144753  0.46855247]\n",
      " [ 0.37227489  0.62772511]\n",
      " [ 0.55065347  0.44934653]\n",
      " [ 0.36250692  0.63749308]\n",
      " [ 0.57441216  0.42558784]\n",
      " [ 0.81433694  0.18566306]\n",
      " [ 0.40525408  0.59474592]\n",
      " [ 0.43285099  0.56714901]\n",
      " [ 0.62229972  0.37770028]\n",
      " [ 0.45600497  0.54399503]\n",
      " [ 0.77534189  0.22465811]\n",
      " [ 0.6964395   0.3035605 ]\n",
      " [ 0.64101448  0.35898552]\n",
      " [ 0.35229197  0.64770803]\n",
      " [ 0.73578473  0.26421527]\n",
      " [ 0.47703462  0.52296538]\n",
      " [ 0.62562733  0.37437267]\n",
      " [ 0.57397073  0.42602927]\n",
      " [ 0.72007271  0.27992729]\n",
      " [ 0.75959414  0.24040586]\n",
      " [ 0.52141984  0.47858016]]\n"
     ]
    }
   ],
   "source": [
    "probs = model.predict_proba(test_x)\n",
    "print probs"
   ]
  },
  {
   "cell_type": "code",
   "execution_count": 125,
   "metadata": {
    "collapsed": false
   },
   "outputs": [
    {
     "name": "stdout",
     "output_type": "stream",
     "text": [
      "0.698113207547\n",
      "0.64746588694\n"
     ]
    }
   ],
   "source": [
    "#generate evaluation metrics \n",
    "print metrics.accuracy_score(test_y, predicted)\n",
    "print metrics.roc_auc_score(test_y, probs[:, 1])"
   ]
  },
  {
   "cell_type": "code",
   "execution_count": 126,
   "metadata": {
    "collapsed": false
   },
   "outputs": [
    {
     "name": "stdout",
     "output_type": "stream",
     "text": [
      "[[99 15]\n",
      " [33 12]]\n"
     ]
    }
   ],
   "source": [
    "print metrics.confusion_matrix(test_y, predicted)"
   ]
  },
  {
   "cell_type": "code",
   "execution_count": null,
   "metadata": {
    "collapsed": true
   },
   "outputs": [],
   "source": []
  }
 ],
 "metadata": {
  "kernelspec": {
   "display_name": "Python 2",
   "language": "python",
   "name": "python2"
  },
  "language_info": {
   "codemirror_mode": {
    "name": "ipython",
    "version": 2
   },
   "file_extension": ".py",
   "mimetype": "text/x-python",
   "name": "python",
   "nbconvert_exporter": "python",
   "pygments_lexer": "ipython2",
   "version": "2.7.11"
  }
 },
 "nbformat": 4,
 "nbformat_minor": 0
}
